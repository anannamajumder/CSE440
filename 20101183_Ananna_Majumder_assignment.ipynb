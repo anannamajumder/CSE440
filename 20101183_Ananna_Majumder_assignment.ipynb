{
  "nbformat": 4,
  "nbformat_minor": 0,
  "metadata": {
    "colab": {
      "provenance": []
    },
    "kernelspec": {
      "name": "python3",
      "display_name": "Python 3"
    },
    "language_info": {
      "name": "python"
    }
  },
  "cells": [
    {
      "cell_type": "code",
      "execution_count": 13,
      "metadata": {
        "colab": {
          "base_uri": "https://localhost:8080/",
          "height": 74
        },
        "id": "OM2GDjML8Ocm",
        "outputId": "0d4414f6-578b-4bbc-e72f-bebb75c4b02e"
      },
      "outputs": [
        {
          "output_type": "display_data",
          "data": {
            "text/plain": [
              "<IPython.core.display.HTML object>"
            ],
            "text/html": [
              "\n",
              "     <input type=\"file\" id=\"files-42cf7a7e-d3e2-4f64-b29e-83303c0bcf6f\" name=\"files[]\" multiple disabled\n",
              "        style=\"border:none\" />\n",
              "     <output id=\"result-42cf7a7e-d3e2-4f64-b29e-83303c0bcf6f\">\n",
              "      Upload widget is only available when the cell has been executed in the\n",
              "      current browser session. Please rerun this cell to enable.\n",
              "      </output>\n",
              "      <script>// Copyright 2017 Google LLC\n",
              "//\n",
              "// Licensed under the Apache License, Version 2.0 (the \"License\");\n",
              "// you may not use this file except in compliance with the License.\n",
              "// You may obtain a copy of the License at\n",
              "//\n",
              "//      http://www.apache.org/licenses/LICENSE-2.0\n",
              "//\n",
              "// Unless required by applicable law or agreed to in writing, software\n",
              "// distributed under the License is distributed on an \"AS IS\" BASIS,\n",
              "// WITHOUT WARRANTIES OR CONDITIONS OF ANY KIND, either express or implied.\n",
              "// See the License for the specific language governing permissions and\n",
              "// limitations under the License.\n",
              "\n",
              "/**\n",
              " * @fileoverview Helpers for google.colab Python module.\n",
              " */\n",
              "(function(scope) {\n",
              "function span(text, styleAttributes = {}) {\n",
              "  const element = document.createElement('span');\n",
              "  element.textContent = text;\n",
              "  for (const key of Object.keys(styleAttributes)) {\n",
              "    element.style[key] = styleAttributes[key];\n",
              "  }\n",
              "  return element;\n",
              "}\n",
              "\n",
              "// Max number of bytes which will be uploaded at a time.\n",
              "const MAX_PAYLOAD_SIZE = 100 * 1024;\n",
              "\n",
              "function _uploadFiles(inputId, outputId) {\n",
              "  const steps = uploadFilesStep(inputId, outputId);\n",
              "  const outputElement = document.getElementById(outputId);\n",
              "  // Cache steps on the outputElement to make it available for the next call\n",
              "  // to uploadFilesContinue from Python.\n",
              "  outputElement.steps = steps;\n",
              "\n",
              "  return _uploadFilesContinue(outputId);\n",
              "}\n",
              "\n",
              "// This is roughly an async generator (not supported in the browser yet),\n",
              "// where there are multiple asynchronous steps and the Python side is going\n",
              "// to poll for completion of each step.\n",
              "// This uses a Promise to block the python side on completion of each step,\n",
              "// then passes the result of the previous step as the input to the next step.\n",
              "function _uploadFilesContinue(outputId) {\n",
              "  const outputElement = document.getElementById(outputId);\n",
              "  const steps = outputElement.steps;\n",
              "\n",
              "  const next = steps.next(outputElement.lastPromiseValue);\n",
              "  return Promise.resolve(next.value.promise).then((value) => {\n",
              "    // Cache the last promise value to make it available to the next\n",
              "    // step of the generator.\n",
              "    outputElement.lastPromiseValue = value;\n",
              "    return next.value.response;\n",
              "  });\n",
              "}\n",
              "\n",
              "/**\n",
              " * Generator function which is called between each async step of the upload\n",
              " * process.\n",
              " * @param {string} inputId Element ID of the input file picker element.\n",
              " * @param {string} outputId Element ID of the output display.\n",
              " * @return {!Iterable<!Object>} Iterable of next steps.\n",
              " */\n",
              "function* uploadFilesStep(inputId, outputId) {\n",
              "  const inputElement = document.getElementById(inputId);\n",
              "  inputElement.disabled = false;\n",
              "\n",
              "  const outputElement = document.getElementById(outputId);\n",
              "  outputElement.innerHTML = '';\n",
              "\n",
              "  const pickedPromise = new Promise((resolve) => {\n",
              "    inputElement.addEventListener('change', (e) => {\n",
              "      resolve(e.target.files);\n",
              "    });\n",
              "  });\n",
              "\n",
              "  const cancel = document.createElement('button');\n",
              "  inputElement.parentElement.appendChild(cancel);\n",
              "  cancel.textContent = 'Cancel upload';\n",
              "  const cancelPromise = new Promise((resolve) => {\n",
              "    cancel.onclick = () => {\n",
              "      resolve(null);\n",
              "    };\n",
              "  });\n",
              "\n",
              "  // Wait for the user to pick the files.\n",
              "  const files = yield {\n",
              "    promise: Promise.race([pickedPromise, cancelPromise]),\n",
              "    response: {\n",
              "      action: 'starting',\n",
              "    }\n",
              "  };\n",
              "\n",
              "  cancel.remove();\n",
              "\n",
              "  // Disable the input element since further picks are not allowed.\n",
              "  inputElement.disabled = true;\n",
              "\n",
              "  if (!files) {\n",
              "    return {\n",
              "      response: {\n",
              "        action: 'complete',\n",
              "      }\n",
              "    };\n",
              "  }\n",
              "\n",
              "  for (const file of files) {\n",
              "    const li = document.createElement('li');\n",
              "    li.append(span(file.name, {fontWeight: 'bold'}));\n",
              "    li.append(span(\n",
              "        `(${file.type || 'n/a'}) - ${file.size} bytes, ` +\n",
              "        `last modified: ${\n",
              "            file.lastModifiedDate ? file.lastModifiedDate.toLocaleDateString() :\n",
              "                                    'n/a'} - `));\n",
              "    const percent = span('0% done');\n",
              "    li.appendChild(percent);\n",
              "\n",
              "    outputElement.appendChild(li);\n",
              "\n",
              "    const fileDataPromise = new Promise((resolve) => {\n",
              "      const reader = new FileReader();\n",
              "      reader.onload = (e) => {\n",
              "        resolve(e.target.result);\n",
              "      };\n",
              "      reader.readAsArrayBuffer(file);\n",
              "    });\n",
              "    // Wait for the data to be ready.\n",
              "    let fileData = yield {\n",
              "      promise: fileDataPromise,\n",
              "      response: {\n",
              "        action: 'continue',\n",
              "      }\n",
              "    };\n",
              "\n",
              "    // Use a chunked sending to avoid message size limits. See b/62115660.\n",
              "    let position = 0;\n",
              "    do {\n",
              "      const length = Math.min(fileData.byteLength - position, MAX_PAYLOAD_SIZE);\n",
              "      const chunk = new Uint8Array(fileData, position, length);\n",
              "      position += length;\n",
              "\n",
              "      const base64 = btoa(String.fromCharCode.apply(null, chunk));\n",
              "      yield {\n",
              "        response: {\n",
              "          action: 'append',\n",
              "          file: file.name,\n",
              "          data: base64,\n",
              "        },\n",
              "      };\n",
              "\n",
              "      let percentDone = fileData.byteLength === 0 ?\n",
              "          100 :\n",
              "          Math.round((position / fileData.byteLength) * 100);\n",
              "      percent.textContent = `${percentDone}% done`;\n",
              "\n",
              "    } while (position < fileData.byteLength);\n",
              "  }\n",
              "\n",
              "  // All done.\n",
              "  yield {\n",
              "    response: {\n",
              "      action: 'complete',\n",
              "    }\n",
              "  };\n",
              "}\n",
              "\n",
              "scope.google = scope.google || {};\n",
              "scope.google.colab = scope.google.colab || {};\n",
              "scope.google.colab._files = {\n",
              "  _uploadFiles,\n",
              "  _uploadFilesContinue,\n",
              "};\n",
              "})(self);\n",
              "</script> "
            ]
          },
          "metadata": {}
        },
        {
          "output_type": "stream",
          "name": "stdout",
          "text": [
            "Saving IMDB Dataset.csv to IMDB Dataset (1).csv\n"
          ]
        }
      ],
      "source": [
        "from google.colab import files\n",
        " \n",
        " \n",
        "uploaded = files.upload()"
      ]
    },
    {
      "cell_type": "code",
      "source": [
        "import pandas as pd\n",
        "import io\n",
        " \n",
        "df = pd.read_csv(io.BytesIO(uploaded['IMDB Dataset.csv']))\n",
        "print(df)"
      ],
      "metadata": {
        "colab": {
          "base_uri": "https://localhost:8080/"
        },
        "id": "ioiD5GcxCiif",
        "outputId": "83aa3fc8-943d-499f-d6fd-58850fec9929"
      },
      "execution_count": 14,
      "outputs": [
        {
          "output_type": "stream",
          "name": "stdout",
          "text": [
            "                                                  review sentiment\n",
            "0      One of the other reviewers has mentioned that ...  positive\n",
            "1      A wonderful little production. <br /><br />The...  positive\n",
            "2      I thought this was a wonderful way to spend ti...  positive\n",
            "3      Basically there's a family where a little boy ...  negative\n",
            "4      Petter Mattei's \"Love in the Time of Money\" is...  positive\n",
            "...                                                  ...       ...\n",
            "49995  I thought this movie did a down right good job...  positive\n",
            "49996  Bad plot, bad dialogue, bad acting, idiotic di...  negative\n",
            "49997  I am a Catholic taught in parochial elementary...  negative\n",
            "49998  I'm going to have to disagree with the previou...  negative\n",
            "49999  No one expects the Star Trek movies to be high...  negative\n",
            "\n",
            "[50000 rows x 2 columns]\n"
          ]
        }
      ]
    },
    {
      "cell_type": "code",
      "source": [
        "from sklearn.feature_extraction.text import TfidfVectorizer\n",
        "from sklearn.model_selection import train_test_split\n",
        "from sklearn.linear_model import LogisticRegression\n",
        "from sklearn.naive_bayes import MultinomialNB\n",
        "from sklearn.metrics import accuracy_score\n",
        "import matplotlib.pyplot as plt\n",
        "from sklearn.metrics import classification_report\n",
        "from sklearn.metrics import f1_score"
      ],
      "metadata": {
        "id": "VoLJAI86CvKy"
      },
      "execution_count": 69,
      "outputs": []
    },
    {
      "cell_type": "code",
      "source": [
        "Review=df['review']\n",
        "Sentiment=df['sentiment']"
      ],
      "metadata": {
        "id": "wsSRmaYtHpgw"
      },
      "execution_count": 16,
      "outputs": []
    },
    {
      "cell_type": "code",
      "source": [
        "Sentiment = Sentiment.apply(lambda x: 1 if x == 'positive' else 0)"
      ],
      "metadata": {
        "id": "6wAnVyPQPrwC"
      },
      "execution_count": 44,
      "outputs": []
    },
    {
      "cell_type": "code",
      "source": [
        "tfidf = TfidfVectorizer()\n",
        "tfidf.fit(df['review'])\n",
        "text_vector = tfidf.transform(df['review'])\n",
        "#print(text_vector)\n",
        "\n",
        "##Splitting data\n",
        "\n",
        "R_train_data, R_test_data, S_train_data, S_test_data= train_test_split(Review, Sentiment, test_size=0.2, random_state=1000)"
      ],
      "metadata": {
        "id": "Zm_saJSXC1LA"
      },
      "execution_count": 45,
      "outputs": []
    },
    {
      "cell_type": "code",
      "source": [
        "print(\"Review Training data: \",(R_train_data.shape))\n",
        "print(\"Review Test data: \",(R_test_data.shape))\n",
        "print(\"Sentiment Training data: \",(S_train_data.shape))\n",
        "print(\"Sentiment Training data: \",(S_test_data.shape))"
      ],
      "metadata": {
        "colab": {
          "base_uri": "https://localhost:8080/"
        },
        "id": "E6hhVPorPmSa",
        "outputId": "646303f3-2a3a-4b5d-cdca-c8701b166bb2"
      },
      "execution_count": 46,
      "outputs": [
        {
          "output_type": "stream",
          "name": "stdout",
          "text": [
            "Review Training data:  (40000,)\n",
            "Review Test data:  (10000,)\n",
            "Sentiment Training data:  (40000,)\n",
            "Sentiment Training data:  (10000,)\n"
          ]
        }
      ]
    },
    {
      "cell_type": "code",
      "source": [
        "from sklearn.feature_extraction.text import CountVectorizer\n",
        "\n",
        "vectorizer = CountVectorizer()\n",
        "vectorizer.fit(R_train_data)\n",
        "X_train = vectorizer.transform(R_train_data)\n",
        "X_test  = vectorizer.transform(R_test_data)\n",
        "X_train"
      ],
      "metadata": {
        "colab": {
          "base_uri": "https://localhost:8080/"
        },
        "id": "GVMGxNKgS73_",
        "outputId": "38285f96-7e82-4d5e-e339-0df22bbea739"
      },
      "execution_count": 47,
      "outputs": [
        {
          "output_type": "execute_result",
          "data": {
            "text/plain": [
              "<40000x93033 sparse matrix of type '<class 'numpy.int64'>'\n",
              "\twith 5458173 stored elements in Compressed Sparse Row format>"
            ]
          },
          "metadata": {},
          "execution_count": 47
        }
      ]
    },
    {
      "cell_type": "code",
      "source": [
        "import warnings\n",
        "warnings.filterwarnings('ignore')"
      ],
      "metadata": {
        "id": "6e-VfL6dUp_d"
      },
      "execution_count": 48,
      "outputs": []
    },
    {
      "cell_type": "code",
      "source": [
        "classifier1 = LogisticRegression()\n",
        "classifier1.fit(X_train, S_train_data)\n",
        "score1 = classifier1.score(X_test, S_test_data)\n",
        "print('Accuracy of Logistic Regression model: ', score1)"
      ],
      "metadata": {
        "colab": {
          "base_uri": "https://localhost:8080/"
        },
        "id": "reILEmUmURHr",
        "outputId": "d9031333-b448-4fb2-c1f6-b75328e6a363"
      },
      "execution_count": 49,
      "outputs": [
        {
          "output_type": "stream",
          "name": "stdout",
          "text": [
            "Accuracy of Logistic Regression model:  0.8883\n"
          ]
        }
      ]
    },
    {
      "cell_type": "code",
      "source": [
        "predicted_y1 = classifier1.predict(X_test)\n",
        "predicted_y1 = predicted_y1.flatten()\n",
        "print(classification_report(S_test_data, predicted_y1))"
      ],
      "metadata": {
        "colab": {
          "base_uri": "https://localhost:8080/"
        },
        "id": "EhrVJXpmhTGE",
        "outputId": "e4d50a78-7418-4576-e103-54c7268ea674"
      },
      "execution_count": 64,
      "outputs": [
        {
          "output_type": "stream",
          "name": "stdout",
          "text": [
            "              precision    recall  f1-score   support\n",
            "\n",
            "           0       0.89      0.88      0.89      5054\n",
            "           1       0.88      0.89      0.89      4946\n",
            "\n",
            "    accuracy                           0.89     10000\n",
            "   macro avg       0.89      0.89      0.89     10000\n",
            "weighted avg       0.89      0.89      0.89     10000\n",
            "\n"
          ]
        }
      ]
    },
    {
      "cell_type": "code",
      "source": [
        "classifier2 = MultinomialNB()\n",
        "classifier2.fit(X_train, S_train_data)\n",
        "score2 = classifier2.score(X_test, S_test_data)\n",
        "print('Accuracy of Naive-Bayes model: ', score2)"
      ],
      "metadata": {
        "colab": {
          "base_uri": "https://localhost:8080/"
        },
        "id": "iLZnwLYrVBUL",
        "outputId": "375ad177-acd1-4786-fad1-bb01ae367284"
      },
      "execution_count": 50,
      "outputs": [
        {
          "output_type": "stream",
          "name": "stdout",
          "text": [
            "Accuracy of Naive-Bayes model:  0.8415\n"
          ]
        }
      ]
    },
    {
      "cell_type": "code",
      "source": [
        "predicted_y2 = classifier2.predict(X_test)\n",
        "predicted_y2 = predicted_y2.flatten()\n",
        "print(classification_report(S_test_data, predicted_y2))"
      ],
      "metadata": {
        "colab": {
          "base_uri": "https://localhost:8080/"
        },
        "id": "hT8ajaw1iVvU",
        "outputId": "b4460651-8f61-41be-e09a-08ac8ad05165"
      },
      "execution_count": 66,
      "outputs": [
        {
          "output_type": "stream",
          "name": "stdout",
          "text": [
            "              precision    recall  f1-score   support\n",
            "\n",
            "           0       0.82      0.87      0.85      5054\n",
            "           1       0.86      0.81      0.83      4946\n",
            "\n",
            "    accuracy                           0.84     10000\n",
            "   macro avg       0.84      0.84      0.84     10000\n",
            "weighted avg       0.84      0.84      0.84     10000\n",
            "\n"
          ]
        }
      ]
    },
    {
      "cell_type": "code",
      "source": [
        "import matplotlib.pyplot as plt\n",
        "plt.bar(['Logistic Regression', 'Naive Bayes'], [score1, score2])\n",
        "plt.title('Model Accuracies on Test Data')\n",
        "plt.ylabel('Accuracy')\n",
        "plt.ylim(0, 1)\n",
        "plt.show()\n"
      ],
      "metadata": {
        "colab": {
          "base_uri": "https://localhost:8080/",
          "height": 452
        },
        "id": "risOJKvgVhVO",
        "outputId": "3dc3f12d-9fcc-49d1-ecfd-6553781b955e"
      },
      "execution_count": 51,
      "outputs": [
        {
          "output_type": "display_data",
          "data": {
            "text/plain": [
              "<Figure size 640x480 with 1 Axes>"
            ],
            "image/png": "[encoded data removed]"
          },
          "metadata": {}
        }
      ]
    },
    {
      "cell_type": "markdown",
      "source": [
        "## **Deep Learning**"
      ],
      "metadata": {
        "id": "lC4CEhOAFPQ_"
      }
    },
    {
      "cell_type": "code",
      "source": [
        "from tensorflow.keras.models import Sequential\n",
        "from tensorflow.keras.layers import Dense, Embedding, LSTM, Dropout\n",
        "from tensorflow.keras.preprocessing.text import Tokenizer\n",
        "from tensorflow.keras.preprocessing.sequence import pad_sequences\n"
      ],
      "metadata": {
        "id": "vlhySeqKKpkB"
      },
      "execution_count": 52,
      "outputs": []
    },
    {
      "cell_type": "code",
      "source": [
        "MAX_WORDS = 10000\n",
        "\n",
        "\n",
        "tokenizer = Tokenizer(num_words=MAX_WORDS)\n",
        "tokenizer.fit_on_texts(R_train_data)\n",
        "\n",
        "X_train_seq = tokenizer.texts_to_sequences(R_train_data)\n",
        "X_test_seq = tokenizer.texts_to_sequences(R_test_data)\n",
        "\n",
        "MAX_SEQ_LENGTH = 100\n",
        "X_train_padded = pad_sequences(X_train_seq, maxlen=MAX_SEQ_LENGTH, padding='post', truncating='post')\n",
        "X_test_padded = pad_sequences(X_test_seq, maxlen=MAX_SEQ_LENGTH, padding='post', truncating='post')"
      ],
      "metadata": {
        "id": "BVxL34GZFM2z"
      },
      "execution_count": 53,
      "outputs": []
    },
    {
      "cell_type": "code",
      "source": [
        "model = Sequential()\n",
        "model.add(Embedding(input_dim=MAX_WORDS, output_dim=64, input_length=MAX_SEQ_LENGTH))\n",
        "model.add(LSTM(64, return_sequences=True))\n",
        "model.add(Dropout(0.5))\n",
        "model.add(LSTM(32))\n",
        "model.add(Dense(1, activation='sigmoid'))\n"
      ],
      "metadata": {
        "id": "AEOYdTc5LHIh"
      },
      "execution_count": 54,
      "outputs": []
    },
    {
      "cell_type": "code",
      "source": [
        "model.compile(loss='binary_crossentropy', optimizer='adam', metrics=['accuracy'])\n",
        "model.summary()"
      ],
      "metadata": {
        "colab": {
          "base_uri": "https://localhost:8080/"
        },
        "id": "rb9tyK4TLJVM",
        "outputId": "106fefa0-cd44-41a7-c013-38fbcdcac912"
      },
      "execution_count": 55,
      "outputs": [
        {
          "output_type": "stream",
          "name": "stdout",
          "text": [
            "Model: \"sequential_3\"\n",
            "_________________________________________________________________\n",
            " Layer (type)                Output Shape              Param #   \n",
            "=================================================================\n",
            " embedding_3 (Embedding)     (None, 100, 64)           640000    \n",
            "                                                                 \n",
            " lstm_6 (LSTM)               (None, 100, 64)           33024     \n",
            "                                                                 \n",
            " dropout_3 (Dropout)         (None, 100, 64)           0         \n",
            "                                                                 \n",
            " lstm_7 (LSTM)               (None, 32)                12416     \n",
            "                                                                 \n",
            " dense_3 (Dense)             (None, 1)                 33        \n",
            "                                                                 \n",
            "=================================================================\n",
            "Total params: 685,473\n",
            "Trainable params: 685,473\n",
            "Non-trainable params: 0\n",
            "_________________________________________________________________\n"
          ]
        }
      ]
    },
    {
      "cell_type": "code",
      "source": [
        "history = model.fit(X_train_padded, S_train_data, epochs=25, batch_size=32, validation_data=(X_test_padded, S_test_data))"
      ],
      "metadata": {
        "colab": {
          "base_uri": "https://localhost:8080/"
        },
        "id": "Fr6GQaPROwNE",
        "outputId": "79c52725-37b9-4138-ef04-7aaafc4fd0fd"
      },
      "execution_count": 56,
      "outputs": [
        {
          "output_type": "stream",
          "name": "stdout",
          "text": [
            "Epoch 1/25\n",
            "1250/1250 [==============================] - 156s 122ms/step - loss: 0.4601 - accuracy: 0.7853 - val_loss: 0.3903 - val_accuracy: 0.8314\n",
            "Epoch 2/25\n",
            "1250/1250 [==============================] - 175s 140ms/step - loss: 0.3267 - accuracy: 0.8652 - val_loss: 0.3671 - val_accuracy: 0.8435\n",
            "Epoch 3/25\n",
            "1250/1250 [==============================] - 165s 132ms/step - loss: 0.2645 - accuracy: 0.8942 - val_loss: 0.3851 - val_accuracy: 0.8380\n",
            "Epoch 4/25\n",
            "1250/1250 [==============================] - 167s 134ms/step - loss: 0.2113 - accuracy: 0.9180 - val_loss: 0.4156 - val_accuracy: 0.8379\n",
            "Epoch 5/25\n",
            "1250/1250 [==============================] - 174s 139ms/step - loss: 0.1648 - accuracy: 0.9392 - val_loss: 0.4619 - val_accuracy: 0.8340\n",
            "Epoch 6/25\n",
            "1250/1250 [==============================] - 174s 139ms/step - loss: 0.1288 - accuracy: 0.9550 - val_loss: 0.5120 - val_accuracy: 0.8287\n",
            "Epoch 7/25\n",
            "1250/1250 [==============================] - 175s 140ms/step - loss: 0.1064 - accuracy: 0.9648 - val_loss: 0.6029 - val_accuracy: 0.8272\n",
            "Epoch 8/25\n",
            "1250/1250 [==============================] - 174s 139ms/step - loss: 0.0838 - accuracy: 0.9738 - val_loss: 0.5779 - val_accuracy: 0.8307\n",
            "Epoch 9/25\n",
            "1250/1250 [==============================] - 175s 140ms/step - loss: 0.0730 - accuracy: 0.9767 - val_loss: 0.6648 - val_accuracy: 0.8240\n",
            "Epoch 10/25\n",
            "1250/1250 [==============================] - 175s 140ms/step - loss: 0.0538 - accuracy: 0.9836 - val_loss: 0.7756 - val_accuracy: 0.8236\n",
            "Epoch 11/25\n",
            "1250/1250 [==============================] - 174s 139ms/step - loss: 0.0530 - accuracy: 0.9842 - val_loss: 0.6197 - val_accuracy: 0.8142\n",
            "Epoch 12/25\n",
            "1250/1250 [==============================] - 164s 131ms/step - loss: 0.0452 - accuracy: 0.9869 - val_loss: 0.7968 - val_accuracy: 0.8233\n",
            "Epoch 13/25\n",
            "1250/1250 [==============================] - 165s 132ms/step - loss: 0.0366 - accuracy: 0.9892 - val_loss: 0.8421 - val_accuracy: 0.8143\n",
            "Epoch 14/25\n",
            "1250/1250 [==============================] - 164s 131ms/step - loss: 0.0340 - accuracy: 0.9897 - val_loss: 0.8701 - val_accuracy: 0.8184\n",
            "Epoch 15/25\n",
            "1250/1250 [==============================] - 174s 139ms/step - loss: 0.0279 - accuracy: 0.9921 - val_loss: 0.8839 - val_accuracy: 0.8229\n",
            "Epoch 16/25\n",
            "1250/1250 [==============================] - 165s 132ms/step - loss: 0.0320 - accuracy: 0.9906 - val_loss: 0.8406 - val_accuracy: 0.8262\n",
            "Epoch 17/25\n",
            "1250/1250 [==============================] - 165s 132ms/step - loss: 0.0242 - accuracy: 0.9935 - val_loss: 0.8882 - val_accuracy: 0.8206\n",
            "Epoch 18/25\n",
            "1250/1250 [==============================] - 175s 140ms/step - loss: 0.0244 - accuracy: 0.9933 - val_loss: 0.9165 - val_accuracy: 0.8205\n",
            "Epoch 19/25\n",
            "1250/1250 [==============================] - 174s 139ms/step - loss: 0.0252 - accuracy: 0.9928 - val_loss: 0.8615 - val_accuracy: 0.8126\n",
            "Epoch 20/25\n",
            "1250/1250 [==============================] - 174s 139ms/step - loss: 0.0170 - accuracy: 0.9956 - val_loss: 0.8778 - val_accuracy: 0.8154\n",
            "Epoch 21/25\n",
            "1250/1250 [==============================] - 163s 131ms/step - loss: 0.0202 - accuracy: 0.9946 - val_loss: 0.9572 - val_accuracy: 0.8160\n",
            "Epoch 22/25\n",
            "1250/1250 [==============================] - 174s 139ms/step - loss: 0.0215 - accuracy: 0.9936 - val_loss: 0.8838 - val_accuracy: 0.8183\n",
            "Epoch 23/25\n",
            "1250/1250 [==============================] - 174s 139ms/step - loss: 0.0142 - accuracy: 0.9965 - val_loss: 1.0200 - val_accuracy: 0.8167\n",
            "Epoch 24/25\n",
            "1250/1250 [==============================] - 175s 140ms/step - loss: 0.0092 - accuracy: 0.9978 - val_loss: 1.1469 - val_accuracy: 0.8213\n",
            "Epoch 25/25\n",
            "1250/1250 [==============================] - 181s 145ms/step - loss: 0.0085 - accuracy: 0.9979 - val_loss: 1.0712 - val_accuracy: 0.8193\n"
          ]
        }
      ]
    },
    {
      "cell_type": "code",
      "source": [
        "loss, accuracy = model.evaluate(X_test_padded, S_test_data)\n",
        "print('Accuracy of Neural Network Model:', accuracy)"
      ],
      "metadata": {
        "colab": {
          "base_uri": "https://localhost:8080/"
        },
        "id": "Pzen2gsnS1SU",
        "outputId": "0fdb2aa5-533b-40a5-e405-0dd0cfaed56c"
      },
      "execution_count": 57,
      "outputs": [
        {
          "output_type": "stream",
          "name": "stdout",
          "text": [
            "313/313 [==============================] - 11s 35ms/step - loss: 1.0712 - accuracy: 0.8193\n",
            "Accuracy of Neural Network Model: 0.8192999958992004\n"
          ]
        }
      ]
    },
    {
      "cell_type": "code",
      "source": [
        "y_pred = model.predict(X_test_padded)\n",
        "y_pred = [1 if x > 0.5 else 0 for x in y_pred]\n",
        "f1 = f1_score(S_test_data, y_pred)\n",
        "print(\"F1 score:\", f1)"
      ],
      "metadata": {
        "colab": {
          "base_uri": "https://localhost:8080/"
        },
        "id": "P7deUkMWizsQ",
        "outputId": "e951ac0f-210a-4f9b-fa9e-4a75252e5112"
      },
      "execution_count": 70,
      "outputs": [
        {
          "output_type": "stream",
          "name": "stdout",
          "text": [
            "313/313 [==============================] - 11s 35ms/step\n",
            "F1 score: 0.818665328650276\n"
          ]
        }
      ]
    }
  ]
}