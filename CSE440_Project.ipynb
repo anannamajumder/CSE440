{
  "nbformat": 4,
  "nbformat_minor": 0,
  "metadata": {
    "colab": {
      "provenance": []
    },
    "kernelspec": {
      "name": "python3",
      "display_name": "Python 3"
    },
    "language_info": {
      "name": "python"
    }
  },
  "cells": [
    {
      "cell_type": "markdown",
      "source": [
        "## **Loading Dataset**\n"
      ],
      "metadata": {
        "id": "DnbbfDF-UuDW"
      }
    },
    {
      "cell_type": "code",
      "source": [
        "from google.colab import files\n",
        " \n",
        " \n",
        "uploaded = files.upload()"
      ],
      "metadata": {
        "colab": {
          "base_uri": "https://localhost:8080/",
          "height": 74
        },
        "id": "KutejEJIU0um",
        "outputId": "dfc252b1-d5fd-423a-95bb-e1c0d4f8b3a0"
      },
      "execution_count": null,
      "outputs": [
        {
          "output_type": "display_data",
          "data": {
            "text/plain": [
              "<IPython.core.display.HTML object>"
            ],
            "text/html": [
              "\n",
              "     <input type=\"file\" id=\"files-e5b64b95-969f-4427-9899-80971e6f03b6\" name=\"files[]\" multiple disabled\n",
              "        style=\"border:none\" />\n",
              "     <output id=\"result-e5b64b95-969f-4427-9899-80971e6f03b6\">\n",
              "      Upload widget is only available when the cell has been executed in the\n",
              "      current browser session. Please rerun this cell to enable.\n",
              "      </output>\n",
              "      <script>// Copyright 2017 Google LLC\n",
              "//\n",
              "// Licensed under the Apache License, Version 2.0 (the \"License\");\n",
              "// you may not use this file except in compliance with the License.\n",
              "// You may obtain a copy of the License at\n",
              "//\n",
              "//      http://www.apache.org/licenses/LICENSE-2.0\n",
              "//\n",
              "// Unless required by applicable law or agreed to in writing, software\n",
              "// distributed under the License is distributed on an \"AS IS\" BASIS,\n",
              "// WITHOUT WARRANTIES OR CONDITIONS OF ANY KIND, either express or implied.\n",
              "// See the License for the specific language governing permissions and\n",
              "// limitations under the License.\n",
              "\n",
              "/**\n",
              " * @fileoverview Helpers for google.colab Python module.\n",
              " */\n",
              "(function(scope) {\n",
              "function span(text, styleAttributes = {}) {\n",
              "  const element = document.createElement('span');\n",
              "  element.textContent = text;\n",
              "  for (const key of Object.keys(styleAttributes)) {\n",
              "    element.style[key] = styleAttributes[key];\n",
              "  }\n",
              "  return element;\n",
              "}\n",
              "\n",
              "// Max number of bytes which will be uploaded at a time.\n",
              "const MAX_PAYLOAD_SIZE = 100 * 1024;\n",
              "\n",
              "function _uploadFiles(inputId, outputId) {\n",
              "  const steps = uploadFilesStep(inputId, outputId);\n",
              "  const outputElement = document.getElementById(outputId);\n",
              "  // Cache steps on the outputElement to make it available for the next call\n",
              "  // to uploadFilesContinue from Python.\n",
              "  outputElement.steps = steps;\n",
              "\n",
              "  return _uploadFilesContinue(outputId);\n",
              "}\n",
              "\n",
              "// This is roughly an async generator (not supported in the browser yet),\n",
              "// where there are multiple asynchronous steps and the Python side is going\n",
              "// to poll for completion of each step.\n",
              "// This uses a Promise to block the python side on completion of each step,\n",
              "// then passes the result of the previous step as the input to the next step.\n",
              "function _uploadFilesContinue(outputId) {\n",
              "  const outputElement = document.getElementById(outputId);\n",
              "  const steps = outputElement.steps;\n",
              "\n",
              "  const next = steps.next(outputElement.lastPromiseValue);\n",
              "  return Promise.resolve(next.value.promise).then((value) => {\n",
              "    // Cache the last promise value to make it available to the next\n",
              "    // step of the generator.\n",
              "    outputElement.lastPromiseValue = value;\n",
              "    return next.value.response;\n",
              "  });\n",
              "}\n",
              "\n",
              "/**\n",
              " * Generator function which is called between each async step of the upload\n",
              " * process.\n",
              " * @param {string} inputId Element ID of the input file picker element.\n",
              " * @param {string} outputId Element ID of the output display.\n",
              " * @return {!Iterable<!Object>} Iterable of next steps.\n",
              " */\n",
              "function* uploadFilesStep(inputId, outputId) {\n",
              "  const inputElement = document.getElementById(inputId);\n",
              "  inputElement.disabled = false;\n",
              "\n",
              "  const outputElement = document.getElementById(outputId);\n",
              "  outputElement.innerHTML = '';\n",
              "\n",
              "  const pickedPromise = new Promise((resolve) => {\n",
              "    inputElement.addEventListener('change', (e) => {\n",
              "      resolve(e.target.files);\n",
              "    });\n",
              "  });\n",
              "\n",
              "  const cancel = document.createElement('button');\n",
              "  inputElement.parentElement.appendChild(cancel);\n",
              "  cancel.textContent = 'Cancel upload';\n",
              "  const cancelPromise = new Promise((resolve) => {\n",
              "    cancel.onclick = () => {\n",
              "      resolve(null);\n",
              "    };\n",
              "  });\n",
              "\n",
              "  // Wait for the user to pick the files.\n",
              "  const files = yield {\n",
              "    promise: Promise.race([pickedPromise, cancelPromise]),\n",
              "    response: {\n",
              "      action: 'starting',\n",
              "    }\n",
              "  };\n",
              "\n",
              "  cancel.remove();\n",
              "\n",
              "  // Disable the input element since further picks are not allowed.\n",
              "  inputElement.disabled = true;\n",
              "\n",
              "  if (!files) {\n",
              "    return {\n",
              "      response: {\n",
              "        action: 'complete',\n",
              "      }\n",
              "    };\n",
              "  }\n",
              "\n",
              "  for (const file of files) {\n",
              "    const li = document.createElement('li');\n",
              "    li.append(span(file.name, {fontWeight: 'bold'}));\n",
              "    li.append(span(\n",
              "        `(${file.type || 'n/a'}) - ${file.size} bytes, ` +\n",
              "        `last modified: ${\n",
              "            file.lastModifiedDate ? file.lastModifiedDate.toLocaleDateString() :\n",
              "                                    'n/a'} - `));\n",
              "    const percent = span('0% done');\n",
              "    li.appendChild(percent);\n",
              "\n",
              "    outputElement.appendChild(li);\n",
              "\n",
              "    const fileDataPromise = new Promise((resolve) => {\n",
              "      const reader = new FileReader();\n",
              "      reader.onload = (e) => {\n",
              "        resolve(e.target.result);\n",
              "      };\n",
              "      reader.readAsArrayBuffer(file);\n",
              "    });\n",
              "    // Wait for the data to be ready.\n",
              "    let fileData = yield {\n",
              "      promise: fileDataPromise,\n",
              "      response: {\n",
              "        action: 'continue',\n",
              "      }\n",
              "    };\n",
              "\n",
              "    // Use a chunked sending to avoid message size limits. See b/62115660.\n",
              "    let position = 0;\n",
              "    do {\n",
              "      const length = Math.min(fileData.byteLength - position, MAX_PAYLOAD_SIZE);\n",
              "      const chunk = new Uint8Array(fileData, position, length);\n",
              "      position += length;\n",
              "\n",
              "      const base64 = btoa(String.fromCharCode.apply(null, chunk));\n",
              "      yield {\n",
              "        response: {\n",
              "          action: 'append',\n",
              "          file: file.name,\n",
              "          data: base64,\n",
              "        },\n",
              "      };\n",
              "\n",
              "      let percentDone = fileData.byteLength === 0 ?\n",
              "          100 :\n",
              "          Math.round((position / fileData.byteLength) * 100);\n",
              "      percent.textContent = `${percentDone}% done`;\n",
              "\n",
              "    } while (position < fileData.byteLength);\n",
              "  }\n",
              "\n",
              "  // All done.\n",
              "  yield {\n",
              "    response: {\n",
              "      action: 'complete',\n",
              "    }\n",
              "  };\n",
              "}\n",
              "\n",
              "scope.google = scope.google || {};\n",
              "scope.google.colab = scope.google.colab || {};\n",
              "scope.google.colab._files = {\n",
              "  _uploadFiles,\n",
              "  _uploadFilesContinue,\n",
              "};\n",
              "})(self);\n",
              "</script> "
            ]
          },
          "metadata": {}
        },
        {
          "output_type": "stream",
          "name": "stdout",
          "text": [
            "Saving train_all_tasks.csv to train_all_tasks (4).csv\n"
          ]
        }
      ]
    },
    {
      "cell_type": "code",
      "source": [
        "import pandas as pd\n",
        "import io\n",
        " \n",
        "df = pd.read_csv(io.BytesIO(uploaded['train_all_tasks.csv']))\n",
        "print(df)"
      ],
      "metadata": {
        "colab": {
          "base_uri": "https://localhost:8080/"
        },
        "id": "fJyEAdZgUaPz",
        "outputId": "714bf1e6-b678-4307-95c6-445ebb6c4d9a"
      },
      "execution_count": null,
      "outputs": [
        {
          "output_type": "stream",
          "name": "stdout",
          "text": [
            "                      rewire_id  \\\n",
            "0       sexism2022_english-7358   \n",
            "1       sexism2022_english-2367   \n",
            "2       sexism2022_english-3073   \n",
            "3      sexism2022_english-14895   \n",
            "4       sexism2022_english-4118   \n",
            "...                         ...   \n",
            "13995  sexism2022_english-14185   \n",
            "13996  sexism2022_english-18629   \n",
            "13997   sexism2022_english-3320   \n",
            "13998  sexism2022_english-13309   \n",
            "13999  sexism2022_english-12402   \n",
            "\n",
            "                                                    text label_sexist  \\\n",
            "0                  Damn, this writing was pretty chaotic   not sexist   \n",
            "1      Yeah, and apparently a bunch of misogynistic v...   not sexist   \n",
            "2           How the FUCK is this woman still an MP!!!???   not sexist   \n",
            "3      Understand. Know you're right. At same time I ...   not sexist   \n",
            "4         Surprized they didn't stop and rape some women   not sexist   \n",
            "...                                                  ...          ...   \n",
            "13995  complexes like the 'nice chicks' that go after...       sexist   \n",
            "13996  \"GRAPHIC Germany - Muslim \"refugee\" stabbing h...   not sexist   \n",
            "13997  Lol I imagine there would be simps that are li...   not sexist   \n",
            "13998  It's not, the girls I go on dates with don't k...   not sexist   \n",
            "13999  How can he be an incel? He does have a girlfri...   not sexist   \n",
            "\n",
            "      label_category             label_vector  \n",
            "0               none                     none  \n",
            "1               none                     none  \n",
            "2               none                     none  \n",
            "3               none                     none  \n",
            "4               none                     none  \n",
            "...              ...                      ...  \n",
            "13995  2. derogation  2.1 descriptive attacks  \n",
            "13996           none                     none  \n",
            "13997           none                     none  \n",
            "13998           none                     none  \n",
            "13999           none                     none  \n",
            "\n",
            "[14000 rows x 5 columns]\n"
          ]
        }
      ]
    },
    {
      "cell_type": "markdown",
      "source": [
        "## **Analysing Dataset**\n",
        "\n"
      ],
      "metadata": {
        "id": "wBOWwMI5V1kZ"
      }
    },
    {
      "cell_type": "code",
      "source": [
        "df.drop(['rewire_id', 'label_category', 'label_vector'], inplace = True, axis = 1)"
      ],
      "metadata": {
        "id": "9xAX-FIW3l15"
      },
      "execution_count": null,
      "outputs": []
    },
    {
      "cell_type": "code",
      "source": [
        "data = df.dropna()\n",
        "print(data)"
      ],
      "metadata": {
        "colab": {
          "base_uri": "https://localhost:8080/"
        },
        "id": "3aIHKC0E5VgO",
        "outputId": "8d7558dd-37ff-4e4b-d78e-bd9a6d99ba53"
      },
      "execution_count": null,
      "outputs": [
        {
          "output_type": "stream",
          "name": "stdout",
          "text": [
            "                                                    text label_sexist\n",
            "0                  Damn, this writing was pretty chaotic   not sexist\n",
            "1      Yeah, and apparently a bunch of misogynistic v...   not sexist\n",
            "2           How the FUCK is this woman still an MP!!!???   not sexist\n",
            "3      Understand. Know you're right. At same time I ...   not sexist\n",
            "4         Surprized they didn't stop and rape some women   not sexist\n",
            "...                                                  ...          ...\n",
            "13995  complexes like the 'nice chicks' that go after...       sexist\n",
            "13996  \"GRAPHIC Germany - Muslim \"refugee\" stabbing h...   not sexist\n",
            "13997  Lol I imagine there would be simps that are li...   not sexist\n",
            "13998  It's not, the girls I go on dates with don't k...   not sexist\n",
            "13999  How can he be an incel? He does have a girlfri...   not sexist\n",
            "\n",
            "[14000 rows x 2 columns]\n"
          ]
        }
      ]
    },
    {
      "cell_type": "code",
      "source": [
        "\n",
        "from sklearn.model_selection import train_test_split\n",
        "import string\n",
        "from sklearn.utils import resample\n",
        "from sklearn.linear_model import LogisticRegression\n",
        "from sklearn.naive_bayes import MultinomialNB\n",
        "import numpy as np\n",
        "from sklearn.metrics import confusion_matrix, classification_report\n",
        "from matplotlib import pyplot as plt\n",
        "import seaborn as sn"
      ],
      "metadata": {
        "id": "YDDAOoBO5mnF"
      },
      "execution_count": null,
      "outputs": []
    },
    {
      "cell_type": "code",
      "source": [
        "data.groupby('label_sexist').describe()"
      ],
      "metadata": {
        "colab": {
          "base_uri": "https://localhost:8080/",
          "height": 175
        },
        "id": "1nE7ZJz_6D98",
        "outputId": "a28b620c-999e-4be4-ac84-e1fc141b8582"
      },
      "execution_count": null,
      "outputs": [
        {
          "output_type": "execute_result",
          "data": {
            "text/plain": [
              "               text                                                            \\\n",
              "              count unique                                                top   \n",
              "label_sexist                                                                    \n",
              "not sexist    10602  10602              Damn, this writing was pretty chaotic   \n",
              "sexist         3398   3398  just the inside of your wallet: cash, bank car...   \n",
              "\n",
              "                   \n",
              "             freq  \n",
              "label_sexist       \n",
              "not sexist      1  \n",
              "sexist          1  "
            ],
            "text/html": [
              "\n",
              "  <div id=\"df-f70ca4e9-2274-4dd1-84b1-4a2fde4cca14\">\n",
              "    <div class=\"colab-df-container\">\n",
              "      <div>\n",
              "<style scoped>\n",
              "    .dataframe tbody tr th:only-of-type {\n",
              "        vertical-align: middle;\n",
              "    }\n",
              "\n",
              "    .dataframe tbody tr th {\n",
              "        vertical-align: top;\n",
              "    }\n",
              "\n",
              "    .dataframe thead tr th {\n",
              "        text-align: left;\n",
              "    }\n",
              "\n",
              "    .dataframe thead tr:last-of-type th {\n",
              "        text-align: right;\n",
              "    }\n",
              "</style>\n",
              "<table border=\"1\" class=\"dataframe\">\n",
              "  <thead>\n",
              "    <tr>\n",
              "      <th></th>\n",
              "      <th colspan=\"4\" halign=\"left\">text</th>\n",
              "    </tr>\n",
              "    <tr>\n",
              "      <th></th>\n",
              "      <th>count</th>\n",
              "      <th>unique</th>\n",
              "      <th>top</th>\n",
              "      <th>freq</th>\n",
              "    </tr>\n",
              "    <tr>\n",
              "      <th>label_sexist</th>\n",
              "      <th></th>\n",
              "      <th></th>\n",
              "      <th></th>\n",
              "      <th></th>\n",
              "    </tr>\n",
              "  </thead>\n",
              "  <tbody>\n",
              "    <tr>\n",
              "      <th>not sexist</th>\n",
              "      <td>10602</td>\n",
              "      <td>10602</td>\n",
              "      <td>Damn, this writing was pretty chaotic</td>\n",
              "      <td>1</td>\n",
              "    </tr>\n",
              "    <tr>\n",
              "      <th>sexist</th>\n",
              "      <td>3398</td>\n",
              "      <td>3398</td>\n",
              "      <td>just the inside of your wallet: cash, bank car...</td>\n",
              "      <td>1</td>\n",
              "    </tr>\n",
              "  </tbody>\n",
              "</table>\n",
              "</div>\n",
              "      <button class=\"colab-df-convert\" onclick=\"convertToInteractive('df-f70ca4e9-2274-4dd1-84b1-4a2fde4cca14')\"\n",
              "              title=\"Convert this dataframe to an interactive table.\"\n",
              "              style=\"display:none;\">\n",
              "        \n",
              "  <svg xmlns=\"http://www.w3.org/2000/svg\" height=\"24px\"viewBox=\"0 0 24 24\"\n",
              "       width=\"24px\">\n",
              "    <path d=\"M0 0h24v24H0V0z\" fill=\"none\"/>\n",
              "    <path d=\"M18.56 5.44l.94 2.06.94-2.06 2.06-.94-2.06-.94-.94-2.06-.94 2.06-2.06.94zm-11 1L8.5 8.5l.94-2.06 2.06-.94-2.06-.94L8.5 2.5l-.94 2.06-2.06.94zm10 10l.94 2.06.94-2.06 2.06-.94-2.06-.94-.94-2.06-.94 2.06-2.06.94z\"/><path d=\"M17.41 7.96l-1.37-1.37c-.4-.4-.92-.59-1.43-.59-.52 0-1.04.2-1.43.59L10.3 9.45l-7.72 7.72c-.78.78-.78 2.05 0 2.83L4 21.41c.39.39.9.59 1.41.59.51 0 1.02-.2 1.41-.59l7.78-7.78 2.81-2.81c.8-.78.8-2.07 0-2.86zM5.41 20L4 18.59l7.72-7.72 1.47 1.35L5.41 20z\"/>\n",
              "  </svg>\n",
              "      </button>\n",
              "      \n",
              "  <style>\n",
              "    .colab-df-container {\n",
              "      display:flex;\n",
              "      flex-wrap:wrap;\n",
              "      gap: 12px;\n",
              "    }\n",
              "\n",
              "    .colab-df-convert {\n",
              "      background-color: #E8F0FE;\n",
              "      border: none;\n",
              "      border-radius: 50%;\n",
              "      cursor: pointer;\n",
              "      display: none;\n",
              "      fill: #1967D2;\n",
              "      height: 32px;\n",
              "      padding: 0 0 0 0;\n",
              "      width: 32px;\n",
              "    }\n",
              "\n",
              "    .colab-df-convert:hover {\n",
              "      background-color: #E2EBFA;\n",
              "      box-shadow: 0px 1px 2px rgba(60, 64, 67, 0.3), 0px 1px 3px 1px rgba(60, 64, 67, 0.15);\n",
              "      fill: #174EA6;\n",
              "    }\n",
              "\n",
              "    [theme=dark] .colab-df-convert {\n",
              "      background-color: #3B4455;\n",
              "      fill: #D2E3FC;\n",
              "    }\n",
              "\n",
              "    [theme=dark] .colab-df-convert:hover {\n",
              "      background-color: #434B5C;\n",
              "      box-shadow: 0px 1px 3px 1px rgba(0, 0, 0, 0.15);\n",
              "      filter: drop-shadow(0px 1px 2px rgba(0, 0, 0, 0.3));\n",
              "      fill: #FFFFFF;\n",
              "    }\n",
              "  </style>\n",
              "\n",
              "      <script>\n",
              "        const buttonEl =\n",
              "          document.querySelector('#df-f70ca4e9-2274-4dd1-84b1-4a2fde4cca14 button.colab-df-convert');\n",
              "        buttonEl.style.display =\n",
              "          google.colab.kernel.accessAllowed ? 'block' : 'none';\n",
              "\n",
              "        async function convertToInteractive(key) {\n",
              "          const element = document.querySelector('#df-f70ca4e9-2274-4dd1-84b1-4a2fde4cca14');\n",
              "          const dataTable =\n",
              "            await google.colab.kernel.invokeFunction('convertToInteractive',\n",
              "                                                     [key], {});\n",
              "          if (!dataTable) return;\n",
              "\n",
              "          const docLinkHtml = 'Like what you see? Visit the ' +\n",
              "            '<a target=\"_blank\" href=https://colab.research.google.com/notebooks/data_table.ipynb>data table notebook</a>'\n",
              "            + ' to learn more about interactive tables.';\n",
              "          element.innerHTML = '';\n",
              "          dataTable['output_type'] = 'display_data';\n",
              "          await google.colab.output.renderOutput(dataTable, element);\n",
              "          const docLink = document.createElement('div');\n",
              "          docLink.innerHTML = docLinkHtml;\n",
              "          element.appendChild(docLink);\n",
              "        }\n",
              "      </script>\n",
              "    </div>\n",
              "  </div>\n",
              "  "
            ]
          },
          "metadata": {},
          "execution_count": 120
        }
      ]
    },
    {
      "cell_type": "code",
      "source": [
        "df_sexist = data[data['label_sexist']=='sexist']\n",
        "df_sexist.shape"
      ],
      "metadata": {
        "colab": {
          "base_uri": "https://localhost:8080/"
        },
        "id": "6k9wX3WE6V0k",
        "outputId": "71c14fc5-bf85-4ab1-c3bb-8a024ed60677"
      },
      "execution_count": null,
      "outputs": [
        {
          "output_type": "execute_result",
          "data": {
            "text/plain": [
              "(3398, 2)"
            ]
          },
          "metadata": {},
          "execution_count": 121
        }
      ]
    },
    {
      "cell_type": "code",
      "source": [
        "df_non_sexist = data[data['label_sexist']=='not sexist'].sample(df_sexist.shape[0])\n",
        "df_non_sexist.shape"
      ],
      "metadata": {
        "colab": {
          "base_uri": "https://localhost:8080/"
        },
        "id": "kC2j_bmF6Yqi",
        "outputId": "ed20f2b4-441b-4f94-8b38-8b76c16dd51a"
      },
      "execution_count": null,
      "outputs": [
        {
          "output_type": "execute_result",
          "data": {
            "text/plain": [
              "(3398, 2)"
            ]
          },
          "metadata": {},
          "execution_count": 122
        }
      ]
    },
    {
      "cell_type": "code",
      "source": [
        "new_data = pd.concat([df_sexist,df_non_sexist])\n",
        "del df_non_sexist\n",
        "del df_sexist\n",
        "new_data.to_csv('balancedDataset.csv')"
      ],
      "metadata": {
        "id": "KuTAxCE_6l1-"
      },
      "execution_count": null,
      "outputs": []
    },
    {
      "cell_type": "code",
      "source": [
        "data = pd.read_csv('balancedDataset.csv')\n",
        "print(data)"
      ],
      "metadata": {
        "colab": {
          "base_uri": "https://localhost:8080/"
        },
        "id": "OetY0MFj6n2n",
        "outputId": "31b2da20-261f-4b89-bf52-473dddc2aa5f"
      },
      "execution_count": null,
      "outputs": [
        {
          "output_type": "stream",
          "name": "stdout",
          "text": [
            "      Unnamed: 0                                               text  \\\n",
            "0              8  just the inside of your wallet: cash, bank car...   \n",
            "1             11  They get the initial chance because they are a...   \n",
            "2             17                    ugly chicks A pussy is a pussy.   \n",
            "3             18  fuck her off with a nine mm this is what you g...   \n",
            "4             19  How about I talk shit to an idiot like you? Ar...   \n",
            "...          ...                                                ...   \n",
            "6791         694  Portly Portland. God that place is a dumpster ...   \n",
            "6792         796               He's in touch with his feminine side   \n",
            "6793        2777  Best guess, practicality as relates to usage h...   \n",
            "6794        8877  Critical Theory necessarily requires direct in...   \n",
            "6795       11623  Good read. I'm going through these problems cu...   \n",
            "\n",
            "     label_sexist  \n",
            "0          sexist  \n",
            "1          sexist  \n",
            "2          sexist  \n",
            "3          sexist  \n",
            "4          sexist  \n",
            "...           ...  \n",
            "6791   not sexist  \n",
            "6792   not sexist  \n",
            "6793   not sexist  \n",
            "6794   not sexist  \n",
            "6795   not sexist  \n",
            "\n",
            "[6796 rows x 3 columns]\n"
          ]
        }
      ]
    },
    {
      "cell_type": "code",
      "source": [
        "data.groupby('label_sexist').describe()"
      ],
      "metadata": {
        "colab": {
          "base_uri": "https://localhost:8080/",
          "height": 175
        },
        "id": "k8jmbguY6u2v",
        "outputId": "23b55675-188d-4fac-ed66-1d8478cdef2d"
      },
      "execution_count": null,
      "outputs": [
        {
          "output_type": "execute_result",
          "data": {
            "text/plain": [
              "             Unnamed: 0                                                  \\\n",
              "                  count         mean          std  min      25%     50%   \n",
              "label_sexist                                                              \n",
              "not sexist       3398.0  6954.201589  4026.087790  5.0  3500.75  6912.0   \n",
              "sexist           3398.0  6966.171277  4034.101453  8.0  3454.25  6887.5   \n",
              "\n",
              "                                 \n",
              "                   75%      max  \n",
              "label_sexist                     \n",
              "not sexist    10459.75  13998.0  \n",
              "sexist        10486.75  13995.0  "
            ],
            "text/html": [
              "\n",
              "  <div id=\"df-fdeaa988-a9f3-46cd-9d34-28cae7160c9e\">\n",
              "    <div class=\"colab-df-container\">\n",
              "      <div>\n",
              "<style scoped>\n",
              "    .dataframe tbody tr th:only-of-type {\n",
              "        vertical-align: middle;\n",
              "    }\n",
              "\n",
              "    .dataframe tbody tr th {\n",
              "        vertical-align: top;\n",
              "    }\n",
              "\n",
              "    .dataframe thead tr th {\n",
              "        text-align: left;\n",
              "    }\n",
              "\n",
              "    .dataframe thead tr:last-of-type th {\n",
              "        text-align: right;\n",
              "    }\n",
              "</style>\n",
              "<table border=\"1\" class=\"dataframe\">\n",
              "  <thead>\n",
              "    <tr>\n",
              "      <th></th>\n",
              "      <th colspan=\"8\" halign=\"left\">Unnamed: 0</th>\n",
              "    </tr>\n",
              "    <tr>\n",
              "      <th></th>\n",
              "      <th>count</th>\n",
              "      <th>mean</th>\n",
              "      <th>std</th>\n",
              "      <th>min</th>\n",
              "      <th>25%</th>\n",
              "      <th>50%</th>\n",
              "      <th>75%</th>\n",
              "      <th>max</th>\n",
              "    </tr>\n",
              "    <tr>\n",
              "      <th>label_sexist</th>\n",
              "      <th></th>\n",
              "      <th></th>\n",
              "      <th></th>\n",
              "      <th></th>\n",
              "      <th></th>\n",
              "      <th></th>\n",
              "      <th></th>\n",
              "      <th></th>\n",
              "    </tr>\n",
              "  </thead>\n",
              "  <tbody>\n",
              "    <tr>\n",
              "      <th>not sexist</th>\n",
              "      <td>3398.0</td>\n",
              "      <td>6954.201589</td>\n",
              "      <td>4026.087790</td>\n",
              "      <td>5.0</td>\n",
              "      <td>3500.75</td>\n",
              "      <td>6912.0</td>\n",
              "      <td>10459.75</td>\n",
              "      <td>13998.0</td>\n",
              "    </tr>\n",
              "    <tr>\n",
              "      <th>sexist</th>\n",
              "      <td>3398.0</td>\n",
              "      <td>6966.171277</td>\n",
              "      <td>4034.101453</td>\n",
              "      <td>8.0</td>\n",
              "      <td>3454.25</td>\n",
              "      <td>6887.5</td>\n",
              "      <td>10486.75</td>\n",
              "      <td>13995.0</td>\n",
              "    </tr>\n",
              "  </tbody>\n",
              "</table>\n",
              "</div>\n",
              "      <button class=\"colab-df-convert\" onclick=\"convertToInteractive('df-fdeaa988-a9f3-46cd-9d34-28cae7160c9e')\"\n",
              "              title=\"Convert this dataframe to an interactive table.\"\n",
              "              style=\"display:none;\">\n",
              "        \n",
              "  <svg xmlns=\"http://www.w3.org/2000/svg\" height=\"24px\"viewBox=\"0 0 24 24\"\n",
              "       width=\"24px\">\n",
              "    <path d=\"M0 0h24v24H0V0z\" fill=\"none\"/>\n",
              "    <path d=\"M18.56 5.44l.94 2.06.94-2.06 2.06-.94-2.06-.94-.94-2.06-.94 2.06-2.06.94zm-11 1L8.5 8.5l.94-2.06 2.06-.94-2.06-.94L8.5 2.5l-.94 2.06-2.06.94zm10 10l.94 2.06.94-2.06 2.06-.94-2.06-.94-.94-2.06-.94 2.06-2.06.94z\"/><path d=\"M17.41 7.96l-1.37-1.37c-.4-.4-.92-.59-1.43-.59-.52 0-1.04.2-1.43.59L10.3 9.45l-7.72 7.72c-.78.78-.78 2.05 0 2.83L4 21.41c.39.39.9.59 1.41.59.51 0 1.02-.2 1.41-.59l7.78-7.78 2.81-2.81c.8-.78.8-2.07 0-2.86zM5.41 20L4 18.59l7.72-7.72 1.47 1.35L5.41 20z\"/>\n",
              "  </svg>\n",
              "      </button>\n",
              "      \n",
              "  <style>\n",
              "    .colab-df-container {\n",
              "      display:flex;\n",
              "      flex-wrap:wrap;\n",
              "      gap: 12px;\n",
              "    }\n",
              "\n",
              "    .colab-df-convert {\n",
              "      background-color: #E8F0FE;\n",
              "      border: none;\n",
              "      border-radius: 50%;\n",
              "      cursor: pointer;\n",
              "      display: none;\n",
              "      fill: #1967D2;\n",
              "      height: 32px;\n",
              "      padding: 0 0 0 0;\n",
              "      width: 32px;\n",
              "    }\n",
              "\n",
              "    .colab-df-convert:hover {\n",
              "      background-color: #E2EBFA;\n",
              "      box-shadow: 0px 1px 2px rgba(60, 64, 67, 0.3), 0px 1px 3px 1px rgba(60, 64, 67, 0.15);\n",
              "      fill: #174EA6;\n",
              "    }\n",
              "\n",
              "    [theme=dark] .colab-df-convert {\n",
              "      background-color: #3B4455;\n",
              "      fill: #D2E3FC;\n",
              "    }\n",
              "\n",
              "    [theme=dark] .colab-df-convert:hover {\n",
              "      background-color: #434B5C;\n",
              "      box-shadow: 0px 1px 3px 1px rgba(0, 0, 0, 0.15);\n",
              "      filter: drop-shadow(0px 1px 2px rgba(0, 0, 0, 0.3));\n",
              "      fill: #FFFFFF;\n",
              "    }\n",
              "  </style>\n",
              "\n",
              "      <script>\n",
              "        const buttonEl =\n",
              "          document.querySelector('#df-fdeaa988-a9f3-46cd-9d34-28cae7160c9e button.colab-df-convert');\n",
              "        buttonEl.style.display =\n",
              "          google.colab.kernel.accessAllowed ? 'block' : 'none';\n",
              "\n",
              "        async function convertToInteractive(key) {\n",
              "          const element = document.querySelector('#df-fdeaa988-a9f3-46cd-9d34-28cae7160c9e');\n",
              "          const dataTable =\n",
              "            await google.colab.kernel.invokeFunction('convertToInteractive',\n",
              "                                                     [key], {});\n",
              "          if (!dataTable) return;\n",
              "\n",
              "          const docLinkHtml = 'Like what you see? Visit the ' +\n",
              "            '<a target=\"_blank\" href=https://colab.research.google.com/notebooks/data_table.ipynb>data table notebook</a>'\n",
              "            + ' to learn more about interactive tables.';\n",
              "          element.innerHTML = '';\n",
              "          dataTable['output_type'] = 'display_data';\n",
              "          await google.colab.output.renderOutput(dataTable, element);\n",
              "          const docLink = document.createElement('div');\n",
              "          docLink.innerHTML = docLinkHtml;\n",
              "          element.appendChild(docLink);\n",
              "        }\n",
              "      </script>\n",
              "    </div>\n",
              "  </div>\n",
              "  "
            ]
          },
          "metadata": {},
          "execution_count": 125
        }
      ]
    },
    {
      "cell_type": "code",
      "source": [
        "data['label_sexist'] = data['label_sexist'].replace(['not sexist'], 0)\n",
        "data['label_sexist'] = data['label_sexist'].replace(['sexist'], 1)"
      ],
      "metadata": {
        "id": "do44xX9o602z"
      },
      "execution_count": null,
      "outputs": []
    },
    {
      "cell_type": "code",
      "source": [
        "print(data)"
      ],
      "metadata": {
        "colab": {
          "base_uri": "https://localhost:8080/"
        },
        "id": "0dP47YdR66da",
        "outputId": "ad486b15-2575-4c10-8cc9-b6f167ead186"
      },
      "execution_count": null,
      "outputs": [
        {
          "output_type": "stream",
          "name": "stdout",
          "text": [
            "      Unnamed: 0                                               text  \\\n",
            "0              8  just the inside of your wallet: cash, bank car...   \n",
            "1             11  They get the initial chance because they are a...   \n",
            "2             17                    ugly chicks A pussy is a pussy.   \n",
            "3             18  fuck her off with a nine mm this is what you g...   \n",
            "4             19  How about I talk shit to an idiot like you? Ar...   \n",
            "...          ...                                                ...   \n",
            "6791         694  Portly Portland. God that place is a dumpster ...   \n",
            "6792         796               He's in touch with his feminine side   \n",
            "6793        2777  Best guess, practicality as relates to usage h...   \n",
            "6794        8877  Critical Theory necessarily requires direct in...   \n",
            "6795       11623  Good read. I'm going through these problems cu...   \n",
            "\n",
            "      label_sexist  \n",
            "0                1  \n",
            "1                1  \n",
            "2                1  \n",
            "3                1  \n",
            "4                1  \n",
            "...            ...  \n",
            "6791             0  \n",
            "6792             0  \n",
            "6793             0  \n",
            "6794             0  \n",
            "6795             0  \n",
            "\n",
            "[6796 rows x 3 columns]\n"
          ]
        }
      ]
    },
    {
      "cell_type": "markdown",
      "source": [
        "## **Training Dataset**\n"
      ],
      "metadata": {
        "id": "09BZex_pVWcE"
      }
    },
    {
      "cell_type": "code",
      "source": [
        "X_train, X_test, y_train, y_test = train_test_split(data['text'],data['label_sexist'], stratify=data['label_sexist'])"
      ],
      "metadata": {
        "id": "i1hW5Kn17CX8"
      },
      "execution_count": null,
      "outputs": []
    },
    {
      "cell_type": "code",
      "source": [
        "print(\"X Training data: \",(X_train.shape))\n",
        "print(\"X Test data: \",(X_test.shape))\n",
        "print(\"y Training data: \",(y_train.shape))\n",
        "print(\"y Training data: \",(y_test.shape))"
      ],
      "metadata": {
        "colab": {
          "base_uri": "https://localhost:8080/"
        },
        "id": "8ZJQcUf97Pb4",
        "outputId": "f4ce78a6-cb8e-4fb7-aac9-8d7315bfaf25"
      },
      "execution_count": null,
      "outputs": [
        {
          "output_type": "stream",
          "name": "stdout",
          "text": [
            "X Training data:  (5097,)\n",
            "X Test data:  (1699,)\n",
            "y Training data:  (5097,)\n",
            "y Training data:  (1699,)\n"
          ]
        }
      ]
    },
    {
      "cell_type": "code",
      "source": [
        "from sklearn.feature_extraction.text import CountVectorizer\n",
        "\n",
        "vectorizer = CountVectorizer()\n",
        "vectorizer.fit(X_train)\n",
        "X_train1 = vectorizer.transform(X_train)\n",
        "X_test1  = vectorizer.transform(X_test)\n",
        "X_train1"
      ],
      "metadata": {
        "colab": {
          "base_uri": "https://localhost:8080/"
        },
        "id": "OMRabKfe7uPY",
        "outputId": "d971975a-9db9-4b75-95f6-078147e9a9de"
      },
      "execution_count": null,
      "outputs": [
        {
          "output_type": "execute_result",
          "data": {
            "text/plain": [
              "<5097x11875 sparse matrix of type '<class 'numpy.int64'>'\n",
              "\twith 105382 stored elements in Compressed Sparse Row format>"
            ]
          },
          "metadata": {},
          "execution_count": 134
        }
      ]
    },
    {
      "cell_type": "markdown",
      "source": [
        "## **Logistic Regression Model**"
      ],
      "metadata": {
        "id": "Uxbvmg9cWV1f"
      }
    },
    {
      "cell_type": "code",
      "source": [
        "import warnings\n",
        "warnings.filterwarnings('ignore')"
      ],
      "metadata": {
        "id": "Oj_wVKCY7-GO"
      },
      "execution_count": null,
      "outputs": []
    },
    {
      "cell_type": "code",
      "source": [
        "classifier = LogisticRegression()\n",
        "classifier.fit(X_train1, y_train)\n",
        "score = classifier.score(X_test1, y_test)\n",
        "print('Accuracy of Logistic Regression model: ', score)"
      ],
      "metadata": {
        "colab": {
          "base_uri": "https://localhost:8080/"
        },
        "id": "JK-q_bi_7_oW",
        "outputId": "0c526c18-9c6f-4671-a92a-a6ac0695b19e"
      },
      "execution_count": null,
      "outputs": [
        {
          "output_type": "stream",
          "name": "stdout",
          "text": [
            "Accuracy of Logistic Regression model:  0.75927015891701\n"
          ]
        }
      ]
    },
    {
      "cell_type": "code",
      "source": [
        "predicted_y = classifier.predict(X_test1)\n",
        "predicted_y = predicted_y.flatten()"
      ],
      "metadata": {
        "id": "B1hIjFEC8ZPt"
      },
      "execution_count": null,
      "outputs": []
    },
    {
      "cell_type": "code",
      "source": [
        "predicted_y = np.where(predicted_y > 0.5, 1, 0)\n",
        "predicted_y"
      ],
      "metadata": {
        "colab": {
          "base_uri": "https://localhost:8080/"
        },
        "id": "bfrXhnLB9vAg",
        "outputId": "5ec9cdeb-c572-481a-bee8-aa911237221e"
      },
      "execution_count": null,
      "outputs": [
        {
          "output_type": "execute_result",
          "data": {
            "text/plain": [
              "array([1, 0, 0, ..., 0, 1, 1])"
            ]
          },
          "metadata": {},
          "execution_count": 86
        }
      ]
    },
    {
      "cell_type": "code",
      "source": [
        "cm = confusion_matrix(y_test, predicted_y)\n",
        "cm\n"
      ],
      "metadata": {
        "colab": {
          "base_uri": "https://localhost:8080/"
        },
        "id": "kysGOWQL9yvh",
        "outputId": "aaa71ff0-e0ac-429f-98e1-b2b0a45390a2"
      },
      "execution_count": null,
      "outputs": [
        {
          "output_type": "execute_result",
          "data": {
            "text/plain": [
              "array([[668, 182],\n",
              "       [227, 622]])"
            ]
          },
          "metadata": {},
          "execution_count": 87
        }
      ]
    },
    {
      "cell_type": "code",
      "source": [
        "sn.heatmap(cm, annot=True, fmt='d')\n",
        "plt.xlabel('Predicted')\n",
        "plt.ylabel('Truth')"
      ],
      "metadata": {
        "colab": {
          "base_uri": "https://localhost:8080/",
          "height": 467
        },
        "id": "LD_Pkkse93TQ",
        "outputId": "6ad3810b-b709-4a4c-97d3-ff402dde5619"
      },
      "execution_count": null,
      "outputs": [
        {
          "output_type": "execute_result",
          "data": {
            "text/plain": [
              "Text(50.722222222222214, 0.5, 'Truth')"
            ]
          },
          "metadata": {},
          "execution_count": 88
        },
        {
          "output_type": "display_data",
          "data": {
            "text/plain": [
              "<Figure size 640x480 with 2 Axes>"
            ],
            "image/png": "[encoded data removed]"
          },
          "metadata": {}
        }
      ]
    },
    {
      "cell_type": "code",
      "source": [
        "print(classification_report(y_test, predicted_y))"
      ],
      "metadata": {
        "colab": {
          "base_uri": "https://localhost:8080/"
        },
        "id": "5ALIF1x49-IN",
        "outputId": "227028e2-b674-4151-b959-21f67de95ddf"
      },
      "execution_count": null,
      "outputs": [
        {
          "output_type": "stream",
          "name": "stdout",
          "text": [
            "              precision    recall  f1-score   support\n",
            "\n",
            "           0       0.75      0.79      0.77       850\n",
            "           1       0.77      0.73      0.75       849\n",
            "\n",
            "    accuracy                           0.76      1699\n",
            "   macro avg       0.76      0.76      0.76      1699\n",
            "weighted avg       0.76      0.76      0.76      1699\n",
            "\n"
          ]
        }
      ]
    },
    {
      "cell_type": "markdown",
      "source": [
        "## **Naive Bayes Model**"
      ],
      "metadata": {
        "id": "qz__VjjWYtFw"
      }
    },
    {
      "cell_type": "code",
      "source": [
        "classifier2 = MultinomialNB()\n",
        "classifier2.fit(X_train1, y_train)\n",
        "score2 = classifier2.score(X_test1, y_test)\n",
        "print('Accuracy of Naive-Bayes model: ', score2)"
      ],
      "metadata": {
        "colab": {
          "base_uri": "https://localhost:8080/"
        },
        "id": "jc9cka0vYxiB",
        "outputId": "3e401923-5765-442e-a802-e91b998e1c07"
      },
      "execution_count": null,
      "outputs": [
        {
          "output_type": "stream",
          "name": "stdout",
          "text": [
            "Accuracy of Naive-Bayes model:  0.7039434961742201\n"
          ]
        }
      ]
    },
    {
      "cell_type": "code",
      "source": [
        "predicted_y1 = classifier2.predict(X_test1)\n",
        "predicted_y1 = predicted_y1.flatten()"
      ],
      "metadata": {
        "id": "TZIrxvFvcgvv"
      },
      "execution_count": null,
      "outputs": []
    },
    {
      "cell_type": "code",
      "source": [
        "predicted_y1 = np.where(predicted_y1 > 0.5, 1, 0)\n",
        "predicted_y1"
      ],
      "metadata": {
        "colab": {
          "base_uri": "https://localhost:8080/"
        },
        "id": "7qjULKUWcv6J",
        "outputId": "89fc2ab3-be1b-4608-b261-a7f8a942f210"
      },
      "execution_count": null,
      "outputs": [
        {
          "output_type": "execute_result",
          "data": {
            "text/plain": [
              "array([1, 0, 1, ..., 0, 1, 1])"
            ]
          },
          "metadata": {},
          "execution_count": 100
        }
      ]
    },
    {
      "cell_type": "code",
      "source": [
        "cm1 = confusion_matrix(y_test, predicted_y1)\n",
        "cm1\n"
      ],
      "metadata": {
        "colab": {
          "base_uri": "https://localhost:8080/"
        },
        "id": "1o3JkVmBc3cD",
        "outputId": "fcba1d88-43bc-4e29-8368-1a784676d6a3"
      },
      "execution_count": null,
      "outputs": [
        {
          "output_type": "execute_result",
          "data": {
            "text/plain": [
              "array([[482, 368],\n",
              "       [135, 714]])"
            ]
          },
          "metadata": {},
          "execution_count": 102
        }
      ]
    },
    {
      "cell_type": "code",
      "source": [
        "sn.heatmap(cm1, annot=True, fmt='d')\n",
        "plt.xlabel('Predicted')\n",
        "plt.ylabel('Truth')"
      ],
      "metadata": {
        "colab": {
          "base_uri": "https://localhost:8080/",
          "height": 467
        },
        "id": "5T9KSICbc-kY",
        "outputId": "618e6765-b2f8-4291-dc1f-5ad09aed0291"
      },
      "execution_count": null,
      "outputs": [
        {
          "output_type": "execute_result",
          "data": {
            "text/plain": [
              "Text(50.722222222222214, 0.5, 'Truth')"
            ]
          },
          "metadata": {},
          "execution_count": 103
        },
        {
          "output_type": "display_data",
          "data": {
            "text/plain": [
              "<Figure size 640x480 with 2 Axes>"
            ],
            "image/png": "[encoded data removed]"
          },
          "metadata": {}
        }
      ]
    },
    {
      "cell_type": "code",
      "source": [
        "print(classification_report(y_test, predicted_y1))"
      ],
      "metadata": {
        "colab": {
          "base_uri": "https://localhost:8080/"
        },
        "id": "atYpIKxEdMMJ",
        "outputId": "13a0ae2d-f643-4d79-8f4d-738f12cb06cc"
      },
      "execution_count": null,
      "outputs": [
        {
          "output_type": "stream",
          "name": "stdout",
          "text": [
            "              precision    recall  f1-score   support\n",
            "\n",
            "           0       0.78      0.57      0.66       850\n",
            "           1       0.66      0.84      0.74       849\n",
            "\n",
            "    accuracy                           0.70      1699\n",
            "   macro avg       0.72      0.70      0.70      1699\n",
            "weighted avg       0.72      0.70      0.70      1699\n",
            "\n"
          ]
        }
      ]
    },
    {
      "cell_type": "markdown",
      "source": [
        "## **Neural Network Model** "
      ],
      "metadata": {
        "id": "gtIDRhw-dY3Z"
      }
    },
    {
      "cell_type": "code",
      "source": [
        "from tensorflow.keras.models import Sequential\n",
        "from tensorflow.keras.layers import Dense, Embedding, LSTM, Dropout\n",
        "from tensorflow.keras.preprocessing.text import Tokenizer\n",
        "from tensorflow.keras.preprocessing.sequence import pad_sequences\n"
      ],
      "metadata": {
        "id": "OiDM-10nd6ka"
      },
      "execution_count": null,
      "outputs": []
    },
    {
      "cell_type": "code",
      "source": [
        "MAX_WORDS = 10000\n",
        "\n",
        "\n",
        "tokenizer = Tokenizer(num_words=MAX_WORDS)\n",
        "tokenizer.fit_on_texts(X_train)\n",
        "\n",
        "X_train_seq = tokenizer.texts_to_sequences(X_train)\n",
        "X_test_seq = tokenizer.texts_to_sequences(X_test)\n",
        "\n",
        "MAX_SEQ_LENGTH = 100\n",
        "X_train_padded = pad_sequences(X_train_seq, maxlen=MAX_SEQ_LENGTH, padding='post', truncating='post')\n",
        "X_test_padded = pad_sequences(X_test_seq, maxlen=MAX_SEQ_LENGTH, padding='post', truncating='post')"
      ],
      "metadata": {
        "id": "xUY1_yTGhI5o"
      },
      "execution_count": null,
      "outputs": []
    },
    {
      "cell_type": "code",
      "source": [
        "model = Sequential()\n",
        "model.add(Embedding(input_dim=MAX_WORDS, output_dim=64, input_length=MAX_SEQ_LENGTH))\n",
        "model.add(LSTM(64, return_sequences=True))\n",
        "model.add(Dropout(0.5))\n",
        "model.add(LSTM(32))\n",
        "model.add(Dense(1, activation='sigmoid'))\n"
      ],
      "metadata": {
        "id": "UNIg_tZehU_J"
      },
      "execution_count": null,
      "outputs": []
    },
    {
      "cell_type": "code",
      "source": [
        "model.compile(loss='binary_crossentropy', optimizer='adam', metrics=['accuracy'])\n",
        "\n",
        "history = model.fit(X_train_padded, y_train, epochs=10, batch_size=32, validation_data=(X_test_padded, y_test))\n",
        "\n",
        "loss, accuracy = model.evaluate(X_test_padded, y_test)\n",
        "print('Accuracy of Neural Network Model:', accuracy)"
      ],
      "metadata": {
        "colab": {
          "base_uri": "https://localhost:8080/"
        },
        "id": "l5w4eg-hhdZH",
        "outputId": "72c90bda-1072-42c3-e6ef-4efd61e0b09f"
      },
      "execution_count": null,
      "outputs": [
        {
          "output_type": "stream",
          "name": "stdout",
          "text": [
            "Epoch 1/10\n",
            "160/160 [==============================] - 29s 153ms/step - loss: 0.6937 - accuracy: 0.4879 - val_loss: 0.6932 - val_accuracy: 0.5003\n",
            "Epoch 2/10\n",
            "160/160 [==============================] - 24s 148ms/step - loss: 0.6933 - accuracy: 0.5134 - val_loss: 0.6932 - val_accuracy: 0.5003\n",
            "Epoch 3/10\n",
            "160/160 [==============================] - 24s 147ms/step - loss: 0.6933 - accuracy: 0.4830 - val_loss: 0.6932 - val_accuracy: 0.5003\n",
            "Epoch 4/10\n",
            "160/160 [==============================] - 23s 141ms/step - loss: 0.6935 - accuracy: 0.4917 - val_loss: 0.6932 - val_accuracy: 0.5003\n",
            "Epoch 5/10\n",
            "160/160 [==============================] - 22s 135ms/step - loss: 0.6934 - accuracy: 0.4974 - val_loss: 0.6932 - val_accuracy: 0.5003\n",
            "Epoch 6/10\n",
            "160/160 [==============================] - 24s 148ms/step - loss: 0.6932 - accuracy: 0.4938 - val_loss: 0.6932 - val_accuracy: 0.5003\n",
            "Epoch 7/10\n",
            "160/160 [==============================] - 23s 147ms/step - loss: 0.6932 - accuracy: 0.4936 - val_loss: 0.6932 - val_accuracy: 0.5003\n",
            "Epoch 8/10\n",
            "160/160 [==============================] - 24s 148ms/step - loss: 0.6934 - accuracy: 0.4870 - val_loss: 0.6932 - val_accuracy: 0.5003\n",
            "Epoch 9/10\n",
            "160/160 [==============================] - 22s 141ms/step - loss: 0.6932 - accuracy: 0.4979 - val_loss: 0.6931 - val_accuracy: 0.5003\n",
            "Epoch 10/10\n",
            "160/160 [==============================] - 22s 140ms/step - loss: 0.6933 - accuracy: 0.4909 - val_loss: 0.6932 - val_accuracy: 0.4997\n",
            "54/54 [==============================] - 2s 30ms/step - loss: 0.6932 - accuracy: 0.4997\n",
            "Accuracy of Neural Network Model: 0.4997057020664215\n"
          ]
        }
      ]
    },
    {
      "cell_type": "markdown",
      "source": [
        "## **TASK B**"
      ],
      "metadata": {
        "id": "O6wdL-Yj5Nqv"
      }
    },
    {
      "cell_type": "markdown",
      "source": [
        "## **Multi Class Logistic Regression Model**"
      ],
      "metadata": {
        "id": "z-vWYh1g97tx"
      }
    },
    {
      "cell_type": "code",
      "source": [
        "from sklearn.metrics import accuracy_score, precision_score, recall_score, f1_score\n",
        "model_b = LogisticRegression(multi_class='multinomial', solver='lbfgs')\n",
        "model_b.fit(X_train1, y_train)\n",
        "\n",
        "\n",
        "y_pred_b = model_b.predict(X_test1)\n",
        "accuracy_b = accuracy_score(y_test, y_pred_b)\n",
        "precision_b = precision_score(y_test, y_pred_b, average='weighted')\n",
        "recall_b = recall_score(y_test, y_pred_b, average='weighted')\n",
        "f1_b = f1_score(y_test, y_pred_b, average='weighted')\n",
        "\n",
        "print(\"\\nTask B: Category of Sexism\")\n",
        "print(\"Accuracy:\", accuracy_b)\n",
        "print(\"Precision:\", precision_b)\n",
        "print(\"Recall:\", recall_b)\n",
        "print(\"F1-score:\", f1_b)"
      ],
      "metadata": {
        "colab": {
          "base_uri": "https://localhost:8080/"
        },
        "id": "KjsUXNRO4TEH",
        "outputId": "34b976b7-5df4-49bf-8758-5550485d97a7"
      },
      "execution_count": null,
      "outputs": [
        {
          "output_type": "stream",
          "name": "stdout",
          "text": [
            "\n",
            "Task B: Category of Sexism\n",
            "Accuracy: 0.7469099470276633\n",
            "Precision: 0.7470503866402091\n",
            "Recall: 0.7469099470276633\n",
            "F1-score: 0.7468766253980936\n"
          ]
        }
      ]
    }
  ]
}